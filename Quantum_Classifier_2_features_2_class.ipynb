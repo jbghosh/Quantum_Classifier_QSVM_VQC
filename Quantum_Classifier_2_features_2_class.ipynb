{
 "cells": [
  {
   "cell_type": "markdown",
   "metadata": {},
   "source": [
    "# Variational Quantum Classifier (VQC)"
   ]
  },
  {
   "cell_type": "code",
   "execution_count": 5,
   "metadata": {},
   "outputs": [
    {
     "name": "stdout",
     "output_type": "stream",
     "text": [
      "Testing accuracy: 1.00\n"
     ]
    }
   ],
   "source": [
    "from qiskit import BasicAer\n",
    "from qiskit.aqua import QuantumInstance, aqua_globals\n",
    "from qiskit.aqua.algorithms import VQC\n",
    "from qiskit.aqua.components.optimizers import COBYLA\n",
    "from qiskit.aqua.components.feature_maps import RawFeatureVector\n",
    "from qiskit.ml.datasets import wine\n",
    "from qiskit.circuit.library import TwoLocal\n",
    "\n",
    "seed = 1376\n",
    "aqua_globals.random_seed = seed\n",
    "\n",
    "# Use Wine data set for training and test data\n",
    "feature_dim = 4  # dimension of each data point\n",
    "_, training_input, test_input, _ = wine(training_size=12,\n",
    "                                        test_size=4,\n",
    "                                        n=feature_dim)\n",
    "\n",
    "feature_map = RawFeatureVector(feature_dimension=feature_dim)\n",
    "vqc = VQC(COBYLA(maxiter=100),\n",
    "          feature_map,\n",
    "          TwoLocal(feature_map.num_qubits, ['ry', 'rz'], 'cz', reps=3),\n",
    "          training_input,\n",
    "          test_input)\n",
    "result = vqc.run(QuantumInstance(BasicAer.get_backend('statevector_simulator'),\n",
    "                                 shots=1024, seed_simulator=seed, seed_transpiler=seed))\n",
    "\n",
    "print('Testing accuracy: {:0.2f}'.format(result['testing_accuracy']))"
   ]
  },
  {
   "cell_type": "code",
   "execution_count": 81,
   "metadata": {},
   "outputs": [
    {
     "name": "stderr",
     "output_type": "stream",
     "text": [
      "C:\\ProgramData\\Anaconda3\\lib\\site-packages\\ipykernel_launcher.py:26: DeprecationWarning: The qiskit.aqua.components.feature_maps.SecondOrderExpansion object is deprecated as of 0.7.0 and will be removed no sooner than 3 months after the release. You should use qiskit.circuit.library.ZZFeatureMap instead.\n",
      "C:\\ProgramData\\Anaconda3\\lib\\site-packages\\qiskit\\aqua\\components\\feature_maps\\second_order_expansion.py:59: DeprecationWarning: The qiskit.aqua.components.feature_maps.PauliZExpansion class is deprecated as of 0.7.0 and will be removed no sooner than 3 months after the release. You should use qiskit.circuit.library.PauliFeatureMap instead.\n",
      "  z_order=2, data_map_func=data_map_func)\n",
      "C:\\ProgramData\\Anaconda3\\lib\\site-packages\\qiskit\\aqua\\components\\feature_maps\\pauli_z_expansion.py:71: DeprecationWarning: The qiskit.aqua.components.feature_maps.PauliExpansion object is deprecated as of 0.7.0 and will be removed no sooner than 3 months after the release. You should use qiskit.circuit.library.PauliFeatureMap instead.\n",
      "  paulis=pauli_string, data_map_func=data_map_func)\n",
      "C:\\ProgramData\\Anaconda3\\lib\\site-packages\\qiskit\\aqua\\algorithms\\classifiers\\vqc.py:138: DeprecationWarning: The qiskit.aqua.components.feature_maps.FeatureMap object is deprecated as of 0.7.0 and will be removed no earlier than 3 months after the release. You should pass a QuantumCircuit object instead. See also qiskit.circuit.library.data_preparation for a collection of suitable circuits.\n",
      "  self.feature_map = feature_map\n"
     ]
    },
    {
     "name": "stdout",
     "output_type": "stream",
     "text": [
      "Testing accuracy: 1.00\n"
     ]
    }
   ],
   "source": [
    "from qiskit import BasicAer\n",
    "from qiskit.aqua import QuantumInstance, aqua_globals\n",
    "from qiskit.aqua.algorithms import VQC\n",
    "from qiskit.aqua.components.optimizers import COBYLA\n",
    "from qiskit.aqua.components.feature_maps import RawFeatureVector\n",
    "from qiskit.ml.datasets import ad_hoc_data\n",
    "from qiskit.circuit.library import TwoLocal\n",
    "from qiskit.aqua.components.feature_maps import SecondOrderExpansion\n",
    "\n",
    "seed =  10598\n",
    "#seed = 1376\n",
    "aqua_globals.random_seed = seed\n",
    "\n",
    "feature_dim = 2 # dimension of each data point\n",
    "training_dataset_size = 20\n",
    "testing_dataset_size = 10\n",
    "#random_seed = 10598\n",
    "#shots = 1024\n",
    "\n",
    "_, training_input, test_input, _ = ad_hoc_data(training_size=training_dataset_size, \n",
    "                                               test_size=testing_dataset_size, n=feature_dim, gap=0.3)\n",
    "\n",
    "\n",
    "#feature_map = RawFeatureVector(feature_dimension=feature_dim)\n",
    "\n",
    "feature_map = SecondOrderExpansion(feature_dimension=feature_dim, depth=2, entangler_map=None, entanglement='full')\n",
    "vqc = VQC(COBYLA(maxiter=100),\n",
    "          feature_map,\n",
    "          TwoLocal(feature_map.num_qubits, ['ry', 'rz'], 'cz', reps=3),\n",
    "          training_input,\n",
    "          test_input)\n",
    "#result = vqc.run(QuantumInstance(BasicAer.get_backend('qasm_simulator'),\n",
    "#                                 shots=1024, seed_simulator=seed, seed_transpiler=seed))\n",
    "result = vqc.run(QuantumInstance(BasicAer.get_backend('qasm_simulator'),\n",
    "                                 shots=1024, seed_simulator=seed, seed_transpiler=seed))\n",
    "\n",
    "print('Testing accuracy: {:0.2f}'.format(result['testing_accuracy']))"
   ]
  },
  {
   "cell_type": "code",
   "execution_count": 82,
   "metadata": {},
   "outputs": [],
   "source": [
    "from qiskit import Aer\n",
    "from qiskit.aqua.utils import split_dataset_to_data_and_labels"
   ]
  },
  {
   "cell_type": "code",
   "execution_count": 83,
   "metadata": {},
   "outputs": [
    {
     "name": "stdout",
     "output_type": "stream",
     "text": [
      "[0 0 0 0 0 0 0 0 0 0 1 1 1 1 1 1 1 1 1 1]\n"
     ]
    }
   ],
   "source": [
    "datapoints, class_to_label = split_dataset_to_data_and_labels(test_input, class_names=None)\n",
    "print(datapoints[1])"
   ]
  },
  {
   "cell_type": "code",
   "execution_count": 84,
   "metadata": {},
   "outputs": [
    {
     "name": "stdout",
     "output_type": "stream",
     "text": [
      "prediction:   [0 0 0 0 0 0 0 0 0 0 1 1 1 1 1 1 1 1 1 1]\n"
     ]
    }
   ],
   "source": [
    "predicted_probs, predicted_labels = vqc.predict(datapoints[0])\n",
    "#predicted_classes = map_label_to_class_name(predicted_labels, vqc.label_to_class)\n",
    "print(\"prediction:   {}\".format(predicted_labels))"
   ]
  },
  {
   "cell_type": "code",
   "execution_count": 85,
   "metadata": {},
   "outputs": [
    {
     "data": {
      "text/plain": [
       "20"
      ]
     },
     "execution_count": 85,
     "metadata": {},
     "output_type": "execute_result"
    }
   ],
   "source": [
    "l=len(predicted_labels)\n",
    "l\n",
    "#datapoints[1][13]"
   ]
  },
  {
   "cell_type": "code",
   "execution_count": 86,
   "metadata": {},
   "outputs": [
    {
     "name": "stdout",
     "output_type": "stream",
     "text": [
      "[3.58141563 2.26194671] actual class 0 predicted 0\n",
      "[3.20442451 3.33008821] actual class 0 predicted 0\n",
      "[1.13097336 1.63362818] actual class 0 predicted 0\n",
      "[2.89026524 0.87964594] actual class 0 predicted 0\n",
      "[6.1575216  1.13097336] actual class 0 predicted 0\n",
      "[5.65486678 6.22035345] actual class 0 predicted 0\n",
      "[4.58672527 3.83274304] actual class 0 predicted 0\n",
      "[1.50796447 0.56548668] actual class 0 predicted 0\n",
      "[6.09468975 0.62831853] actual class 0 predicted 0\n",
      "[2.82743339 1.13097336] actual class 0 predicted 0\n",
      "[1.38230077 4.52389342] actual class 1 predicted 1\n",
      "[3.89557489 4.46106157] actual class 1 predicted 1\n",
      "[5.46637122 3.0787608 ] actual class 1 predicted 1\n",
      "[1.31946891 4.52389342] actual class 1 predicted 1\n",
      "[3.89557489 5.02654825] actual class 1 predicted 1\n",
      "[5.40353936 3.0787608 ] actual class 1 predicted 1\n",
      "[5.65486678 5.90619419] actual class 1 predicted 1\n",
      "[5.27787566 2.38761042] actual class 1 predicted 1\n",
      "[0.31415927 2.45044227] actual class 1 predicted 1\n",
      "[4.39822972 0.37699112] actual class 1 predicted 1\n"
     ]
    }
   ],
   "source": [
    "for i in range(0,l):\n",
    "    print(datapoints[0][i], 'actual class', datapoints[1][i], 'predicted', predicted_labels[i])\n",
    "    #if datapoints[1][i] == predicted_labels[i]:\n",
    "        "
   ]
  },
  {
   "cell_type": "code",
   "execution_count": 87,
   "metadata": {
    "scrolled": true
   },
   "outputs": [
    {
     "name": "stdout",
     "output_type": "stream",
     "text": [
      "[0 0 0 0 0 0 0 0 0 0 0 0 0 0 0 0 0 0 0 0 1 1 1 1 1 1 1 1 1 1 1 1 1 1 1 1 1\n",
      " 1 1 1]\n",
      "[[2.82743339 4.90088454]\n",
      " [0.25132741 2.70176968]\n",
      " [5.65486678 6.1575216 ]\n",
      " [5.27787566 4.33539786]\n",
      " [5.96902604 0.06283185]\n",
      " [3.39292007 2.0106193 ]\n",
      " [4.46106157 4.77522083]\n",
      " [5.02654825 3.64424748]\n",
      " [1.38230077 0.69115038]\n",
      " [4.90088454 0.31415927]\n",
      " [3.01592895 0.62831853]\n",
      " [2.82743339 4.90088454]\n",
      " [0.75398224 1.75929189]\n",
      " [5.96902604 3.20442451]\n",
      " [0.75398224 1.69646003]\n",
      " [0.62831853 0.12566371]\n",
      " [4.52389342 2.19911486]\n",
      " [1.75929189 1.50796447]\n",
      " [3.51858377 2.38761042]\n",
      " [1.63362818 1.50796447]\n",
      " [0.06283185 5.0893801 ]\n",
      " [1.44513262 1.0681415 ]\n",
      " [0.25132741 1.31946891]\n",
      " [4.39822972 0.50265482]\n",
      " [4.33539786 5.34070751]\n",
      " [2.95309709 4.33539786]\n",
      " [5.90619419 3.01592895]\n",
      " [1.44513262 2.63893783]\n",
      " [2.32477856 2.57610598]\n",
      " [3.83274304 0.9424778 ]\n",
      " [5.52920307 2.95309709]\n",
      " [2.70176968 3.95840674]\n",
      " [1.88495559 2.57610598]\n",
      " [3.89557489 3.64424748]\n",
      " [2.76460154 2.45044227]\n",
      " [1.0681415  1.13097336]\n",
      " [4.77522083 1.31946891]\n",
      " [2.38761042 2.26194671]\n",
      " [0.18849556 4.58672527]\n",
      " [5.34070751 3.89557489]]\n",
      "40\n"
     ]
    }
   ],
   "source": [
    "datapoints_train, class_to_label_train = split_dataset_to_data_and_labels(training_input, class_names=None)\n",
    "print(datapoints_train[1])\n",
    "print(datapoints_train[0])\n",
    "print(len((datapoints_train[1])))"
   ]
  },
  {
   "cell_type": "code",
   "execution_count": 89,
   "metadata": {},
   "outputs": [
    {
     "name": "stdout",
     "output_type": "stream",
     "text": [
      "0\n"
     ]
    },
    {
     "data": {
      "image/png": "[encoded data removed]",
      "text/plain": [
       "<Figure size 432x288 with 1 Axes>"
      ]
     },
     "metadata": {
      "needs_background": "light"
     },
     "output_type": "display_data"
    }
   ],
   "source": [
    "import numpy as np\n",
    "import math \n",
    "from scipy.optimize import minimize\n",
    "import matplotlib as mpl\n",
    "import matplotlib.pyplot as plt\n",
    "from scipy.optimize import minimize, minimize_scalar\n",
    "from scipy import integrate\n",
    "%matplotlib inline\n",
    "\n",
    "#plt.rcParams.update({'font.size': 14})\n",
    "mpl.rc('xtick', labelsize=14) \n",
    "mpl.rc('ytick', labelsize=14)\n",
    "font = {'family' : 'normal',\n",
    "        'weight' : 'normal',\n",
    "        'size'   : 13}\n",
    "\n",
    "mpl.rc('font', **font)\n",
    "\n",
    "def example_inline():\n",
    "    plt.clf()\n",
    "x0_train=[]\n",
    "y0_train=[]\n",
    "x0_test=[]\n",
    "y0_test=[]\n",
    "x1_train=[]\n",
    "y1_train=[]\n",
    "x1_test=[]\n",
    "y1_test=[]\n",
    "    \n",
    "#plt.figure(1)    \n",
    "for i in range(0, len(datapoints_train[0])):\n",
    "    if datapoints_train[1][i]==0 :\n",
    "        x0_train.append(datapoints_train[0][i][0])\n",
    "        y0_train.append(datapoints_train[0][i][1])\n",
    "        \n",
    "        #plt.plot(datapoints_train[0][i][0], datapoints_train[0][i][1], linestyle='', linewidth = 3, \n",
    "             #marker='o', markersize=3, color='blue', label= r'$Result ~from~ curve~ fitting$')\n",
    "    else:\n",
    "        x1_train.append(datapoints_train[0][i][0])\n",
    "        y1_train.append(datapoints_train[0][i][1])\n",
    "        #plt.plot(datapoints_train[0][i][0], datapoints_train[0][i][1], linestyle='', linewidth = 3, \n",
    "                 #marker='o', markersize=3, color='green', label= r'$Result ~from~ curve$')\n",
    "        \n",
    "\n",
    "        \n",
    "for i in range(0, len(datapoints[0])):\n",
    "    if datapoints[1][i]==0 :\n",
    "        x0_test.append(datapoints[0][i][0])\n",
    "        y0_test.append(datapoints[0][i][1])\n",
    "        #plt.plot(datapoints[0][i][0], datapoints[0][i][1], linestyle='', linewidth = 3, \n",
    "             #marker='*', markersize=7, color='orange')\n",
    "    else:\n",
    "        x1_test.append(datapoints[0][i][0])\n",
    "        y1_test.append(datapoints[0][i][1])\n",
    "        #plt.plot(datapoints[0][i][0], datapoints[0][i][1], linestyle='', linewidth = 3, \n",
    "                 #marker='*', markersize=7, color='m')    \n",
    "    #plt.xlabel(r'$\\mathbf{X_1}$')\n",
    "    #plt.ylabel(r'$\\mathbf{x_2}$')\n",
    "#plt.legend()\n",
    "    #plt.show()\n",
    "print(len(x0_train)-len(y0_train))\n",
    "\n",
    "    \n",
    "plt.figure(1)\n",
    "\n",
    "plt.plot(x0_train, y0_train, linewidth = 3, linestyle='', marker='o', markersize=3, color='b', label= r'$training ~class~ 0$')\n",
    "\n",
    "plt.plot(x1_train, y1_train, linewidth = 3, linestyle='', marker='o', markersize=3, color='green', label= r'$training ~class~ 1$')\n",
    "\n",
    "plt.plot(x0_test, y0_test, linewidth = 3, linestyle='', marker='*', markersize=7, color='orange', label= r'$testing ~class~ 0$')\n",
    "\n",
    "plt.plot(x1_test, y1_test, linewidth = 3, linestyle='', marker='*', markersize=7, color='m', label= r'$testing ~class~ 1$')\n",
    "\n",
    "plt.ylabel(r'$X_2$')\n",
    "plt.xlabel(r'$X_1$')\n",
    "#plt.legend()\n",
    "plt.legend(bbox_to_anchor=(1.04,1), loc=\"upper left\")\n",
    "plt.show()\n",
    "    \n"
   ]
  },
  {
   "cell_type": "code",
   "execution_count": 88,
   "metadata": {},
   "outputs": [
    {
     "name": "stdout",
     "output_type": "stream",
     "text": [
      "0\n"
     ]
    },
    {
     "data": {
      "image/png": "[encoded data removed]",
      "text/plain": [
       "<Figure size 432x288 with 1 Axes>"
      ]
     },
     "metadata": {
      "needs_background": "light"
     },
     "output_type": "display_data"
    }
   ],
   "source": [
    "import numpy as np\n",
    "import math \n",
    "from scipy.optimize import minimize\n",
    "import matplotlib as mpl\n",
    "import matplotlib.pyplot as plt\n",
    "from scipy.optimize import minimize, minimize_scalar\n",
    "from scipy import integrate\n",
    "%matplotlib inline\n",
    "\n",
    "#plt.rcParams.update({'font.size': 14})\n",
    "mpl.rc('xtick', labelsize=14) \n",
    "mpl.rc('ytick', labelsize=14)\n",
    "font = {'family' : 'normal',\n",
    "        'weight' : 'normal',\n",
    "        'size'   : 13}\n",
    "\n",
    "mpl.rc('font', **font)\n",
    "\n",
    "def example_inline():\n",
    "    plt.clf()\n",
    "x0_train=[]\n",
    "y0_train=[]\n",
    "x0_test=[]\n",
    "y0_test=[]\n",
    "x1_train=[]\n",
    "y1_train=[]\n",
    "x1_test=[]\n",
    "y1_test=[]\n",
    "    \n",
    "#plt.figure(1)    \n",
    "for i in range(0, len(datapoints_train[0])):\n",
    "    if datapoints_train[1][i]==0 :\n",
    "        x0_train.append(datapoints_train[0][i][0])\n",
    "        y0_train.append(datapoints_train[0][i][1])\n",
    "        \n",
    "        #plt.plot(datapoints_train[0][i][0], datapoints_train[0][i][1], linestyle='', linewidth = 3, \n",
    "             #marker='o', markersize=3, color='blue', label= r'$Result ~from~ curve~ fitting$')\n",
    "    else:\n",
    "        x1_train.append(datapoints_train[0][i][0])\n",
    "        y1_train.append(datapoints_train[0][i][1])\n",
    "        #plt.plot(datapoints_train[0][i][0], datapoints_train[0][i][1], linestyle='', linewidth = 3, \n",
    "                 #marker='o', markersize=3, color='green', label= r'$Result ~from~ curve$')\n",
    "        \n",
    "\n",
    "        \n",
    "for i in range(0, len(datapoints[0])):\n",
    "    if datapoints[1][i]==predicted_labels[i] :\n",
    "        x0_test.append(datapoints[0][i][0])\n",
    "        y0_test.append(datapoints[0][i][1])\n",
    "        #plt.plot(datapoints[0][i][0], datapoints[0][i][1], linestyle='', linewidth = 3, \n",
    "             #marker='*', markersize=7, color='orange')\n",
    "    else:\n",
    "        x1_test.append(datapoints[0][i][0])\n",
    "        y1_test.append(datapoints[0][i][1])\n",
    "        #plt.plot(datapoints[0][i][0], datapoints[0][i][1], linestyle='', linewidth = 3, \n",
    "                 #marker='*', markersize=7, color='m')    \n",
    "    #plt.xlabel(r'$\\mathbf{X_1}$')\n",
    "    #plt.ylabel(r'$\\mathbf{x_2}$')\n",
    "#plt.legend()\n",
    "    #plt.show()\n",
    "print(len(x0_train)-len(y0_train))\n",
    "\n",
    "    \n",
    "plt.figure(1)\n",
    "\n",
    "plt.plot(x0_train, y0_train, linewidth = 3, linestyle='', marker='o', markersize=3, color='b', label= r'$training ~class~ 0$')\n",
    "\n",
    "plt.plot(x1_train, y1_train, linewidth = 3, linestyle='', marker='o', markersize=3, color='green', label= r'$training ~class~ 1$')\n",
    "\n",
    "plt.plot(x0_test, y0_test, linewidth = 3, linestyle='', marker='*', markersize=7, color='orange', label= r'$predicted~ right$')\n",
    "\n",
    "plt.plot(x1_test, y1_test, linewidth = 3, linestyle='', marker='*', markersize=7, color='m', label= r'$predicted ~wrong$')\n",
    "\n",
    "plt.ylabel(r'$X_2$')\n",
    "plt.xlabel(r'$X_1$')\n",
    "#plt.legend()\n",
    "plt.legend(bbox_to_anchor=(1.04,1), loc=\"upper left\")\n",
    "plt.show()\n",
    "    \n"
   ]
  },
  {
   "cell_type": "markdown",
   "metadata": {},
   "source": [
    "# Quantum Support Vector Machine (QSVM)"
   ]
  },
  {
   "cell_type": "code",
   "execution_count": 71,
   "metadata": {},
   "outputs": [
    {
     "name": "stderr",
     "output_type": "stream",
     "text": [
      "C:\\ProgramData\\Anaconda3\\lib\\site-packages\\ipykernel_launcher.py:32: DeprecationWarning: The qiskit.aqua.components.feature_maps.SecondOrderExpansion object is deprecated as of 0.7.0 and will be removed no sooner than 3 months after the release. You should use qiskit.circuit.library.ZZFeatureMap instead.\n",
      "C:\\ProgramData\\Anaconda3\\lib\\site-packages\\qiskit\\aqua\\components\\feature_maps\\second_order_expansion.py:59: DeprecationWarning: The qiskit.aqua.components.feature_maps.PauliZExpansion class is deprecated as of 0.7.0 and will be removed no sooner than 3 months after the release. You should use qiskit.circuit.library.PauliFeatureMap instead.\n",
      "  z_order=2, data_map_func=data_map_func)\n",
      "C:\\ProgramData\\Anaconda3\\lib\\site-packages\\qiskit\\aqua\\components\\feature_maps\\pauli_z_expansion.py:71: DeprecationWarning: The qiskit.aqua.components.feature_maps.PauliExpansion object is deprecated as of 0.7.0 and will be removed no sooner than 3 months after the release. You should use qiskit.circuit.library.PauliFeatureMap instead.\n",
      "  paulis=pauli_string, data_map_func=data_map_func)\n",
      "C:\\ProgramData\\Anaconda3\\lib\\site-packages\\ipykernel_launcher.py:35: DeprecationWarning: \n",
      "                The <class 'qiskit.aqua.components.feature_maps.second_order_expansion.SecondOrderExpansion'> object as input for the QSVM is deprecated as of 0.7.0 and will\n",
      "                be removed no earlier than 3 months after the release.\n",
      "                You should pass a QuantumCircuit object instead.\n",
      "                See also qiskit.circuit.library.data_preparation for a collection\n",
      "                of suitable circuits.\n"
     ]
    },
    {
     "name": "stdout",
     "output_type": "stream",
     "text": [
      "Testing accuracy: 1.00\n"
     ]
    }
   ],
   "source": [
    "from qiskit import BasicAer\n",
    "from qiskit.aqua import QuantumInstance, aqua_globals\n",
    "from qiskit.aqua.algorithms import VQC\n",
    "from qiskit.aqua.components.optimizers import COBYLA\n",
    "from qiskit.aqua.components.feature_maps import RawFeatureVector\n",
    "from qiskit.ml.datasets import ad_hoc_data\n",
    "from qiskit.circuit.library import TwoLocal\n",
    "from qiskit.aqua.components.feature_maps import SecondOrderExpansion\n",
    "from qiskit.aqua.algorithms import QSVM\n",
    "\n",
    "seed =  10598\n",
    "aqua_globals.random_seed = seed\n",
    "\n",
    "feature_dim = 2 # dimension of each data point\n",
    "training_dataset_size = 20\n",
    "testing_dataset_size = 10\n",
    "#random_seed = 10598\n",
    "#shots = 1024\n",
    "\n",
    "#sample_Total, training_input, test_input, class_labels = ad_hoc_data(training_size=training_dataset_size, \n",
    "#                                                                     test_size=testing_dataset_size, \n",
    "#                                                                     n=feature_dim, gap=0.3, PLOT_DATA=True)\n",
    "\n",
    "# Use Wine data set for training and test data\n",
    "#feature_dim = 4  # dimension of each data point\n",
    "_, training_input, test_input, _ = ad_hoc_data(training_size=training_dataset_size, \n",
    "                                               test_size=testing_dataset_size, n=feature_dim, gap=0.3)\n",
    "\n",
    "\n",
    "#feature_map = RawFeatureVector(feature_dimension=feature_dim)\n",
    "#feature_map =SecondOrderExpansion(feature_dimension=feature_dim, depth=2)\n",
    "feature_map = SecondOrderExpansion(feature_dimension=feature_dim, depth=2, entangler_map=None, entanglement='full')\n",
    "\n",
    "qsvmm = QSVM(feature_map, training_dataset=training_input, test_dataset=test_input, \n",
    "           datapoints=None, multiclass_extension=None, quantum_instance=None)\n",
    "\n",
    "resultqsvm = qsvmm.run(QuantumInstance(BasicAer.get_backend('qasm_simulator'),\n",
    "                                 shots=1024, seed_simulator=seed, seed_transpiler=seed))\n",
    "\n",
    "print('Testing accuracy: {:0.2f}'.format(resultqsvm['testing_accuracy']))\n",
    "#print(resultresultqsvm)"
   ]
  },
  {
   "cell_type": "code",
   "execution_count": 3,
   "metadata": {},
   "outputs": [],
   "source": [
    "from qiskit import Aer\n",
    "from qiskit.aqua.utils import split_dataset_to_data_and_labels"
   ]
  },
  {
   "cell_type": "code",
   "execution_count": 4,
   "metadata": {},
   "outputs": [
    {
     "name": "stdout",
     "output_type": "stream",
     "text": [
      "[[0.31415927 2.45044227]\n",
      " [4.39822972 0.37699112]]\n"
     ]
    }
   ],
   "source": [
    "datapoints, class_to_label = split_dataset_to_data_and_labels(test_input, class_names=None)\n",
    "print(datapoints[0][18:])\n",
    "#datapoints[0][2]"
   ]
  },
  {
   "cell_type": "code",
   "execution_count": 5,
   "metadata": {},
   "outputs": [
    {
     "name": "stdout",
     "output_type": "stream",
     "text": [
      "prediction:   [0 0 0 0 0 0 0 0 0 0 1 1 1 1 1 1 1 1 1 1]\n"
     ]
    }
   ],
   "source": [
    "import numpy as np\n",
    "predicted_labels = qsvmm.predict(datapoints[0], quantum_instance=None)\n",
    "#predicted_classes = map_label_to_class_name(predicted_labels, vqc.label_to_class)\n",
    "print(\"prediction:   {}\".format(predicted_labels))"
   ]
  },
  {
   "cell_type": "code",
   "execution_count": 6,
   "metadata": {},
   "outputs": [
    {
     "name": "stdout",
     "output_type": "stream",
     "text": [
      "[3.58141563 2.26194671] actual class 0 predicted 0\n",
      "[3.20442451 3.33008821] actual class 0 predicted 0\n",
      "[1.13097336 1.63362818] actual class 0 predicted 0\n",
      "[2.89026524 0.87964594] actual class 0 predicted 0\n",
      "[6.1575216  1.13097336] actual class 0 predicted 0\n",
      "[5.65486678 6.22035345] actual class 0 predicted 0\n",
      "[4.58672527 3.83274304] actual class 0 predicted 0\n",
      "[1.50796447 0.56548668] actual class 0 predicted 0\n",
      "[6.09468975 0.62831853] actual class 0 predicted 0\n",
      "[2.82743339 1.13097336] actual class 0 predicted 0\n",
      "[1.38230077 4.52389342] actual class 1 predicted 1\n",
      "[3.89557489 4.46106157] actual class 1 predicted 1\n",
      "[5.46637122 3.0787608 ] actual class 1 predicted 1\n",
      "[1.31946891 4.52389342] actual class 1 predicted 1\n",
      "[3.89557489 5.02654825] actual class 1 predicted 1\n",
      "[5.40353936 3.0787608 ] actual class 1 predicted 1\n",
      "[5.65486678 5.90619419] actual class 1 predicted 1\n",
      "[5.27787566 2.38761042] actual class 1 predicted 1\n",
      "[0.31415927 2.45044227] actual class 1 predicted 1\n",
      "[4.39822972 0.37699112] actual class 1 predicted 1\n"
     ]
    }
   ],
   "source": [
    "for i in range(0,len(predicted_labels)):\n",
    "    print(datapoints[0][i], 'actual class', datapoints[1][i], 'predicted', predicted_labels[i])"
   ]
  },
  {
   "cell_type": "code",
   "execution_count": 7,
   "metadata": {},
   "outputs": [
    {
     "name": "stdout",
     "output_type": "stream",
     "text": [
      "[0 0 0 0 0 0 0 0 0 0 0 0 0 0 0 0 0 0 0 0 1 1 1 1 1 1 1 1 1 1 1 1 1 1 1 1 1\n",
      " 1 1 1]\n",
      "[[2.82743339 4.90088454]\n",
      " [0.25132741 2.70176968]\n",
      " [5.65486678 6.1575216 ]\n",
      " [5.27787566 4.33539786]\n",
      " [5.96902604 0.06283185]\n",
      " [3.39292007 2.0106193 ]\n",
      " [4.46106157 4.77522083]\n",
      " [5.02654825 3.64424748]\n",
      " [1.38230077 0.69115038]\n",
      " [4.90088454 0.31415927]\n",
      " [3.01592895 0.62831853]\n",
      " [2.82743339 4.90088454]\n",
      " [0.75398224 1.75929189]\n",
      " [5.96902604 3.20442451]\n",
      " [0.75398224 1.69646003]\n",
      " [0.62831853 0.12566371]\n",
      " [4.52389342 2.19911486]\n",
      " [1.75929189 1.50796447]\n",
      " [3.51858377 2.38761042]\n",
      " [1.63362818 1.50796447]\n",
      " [0.06283185 5.0893801 ]\n",
      " [1.44513262 1.0681415 ]\n",
      " [0.25132741 1.31946891]\n",
      " [4.39822972 0.50265482]\n",
      " [4.33539786 5.34070751]\n",
      " [2.95309709 4.33539786]\n",
      " [5.90619419 3.01592895]\n",
      " [1.44513262 2.63893783]\n",
      " [2.32477856 2.57610598]\n",
      " [3.83274304 0.9424778 ]\n",
      " [5.52920307 2.95309709]\n",
      " [2.70176968 3.95840674]\n",
      " [1.88495559 2.57610598]\n",
      " [3.89557489 3.64424748]\n",
      " [2.76460154 2.45044227]\n",
      " [1.0681415  1.13097336]\n",
      " [4.77522083 1.31946891]\n",
      " [2.38761042 2.26194671]\n",
      " [0.18849556 4.58672527]\n",
      " [5.34070751 3.89557489]]\n",
      "40\n"
     ]
    }
   ],
   "source": [
    "datapoints_train, class_to_label_train = split_dataset_to_data_and_labels(training_input, class_names=None)\n",
    "print(datapoints_train[1])\n",
    "print(datapoints_train[0])\n",
    "print(len((datapoints_train[1])))"
   ]
  },
  {
   "cell_type": "code",
   "execution_count": 8,
   "metadata": {},
   "outputs": [
    {
     "data": {
      "text/plain": [
       "0.25132741228718347"
      ]
     },
     "execution_count": 8,
     "metadata": {},
     "output_type": "execute_result"
    }
   ],
   "source": [
    "datapoints_train[0][1][0]"
   ]
  },
  {
   "cell_type": "code",
   "execution_count": 52,
   "metadata": {},
   "outputs": [
    {
     "name": "stdout",
     "output_type": "stream",
     "text": [
      "0\n"
     ]
    },
    {
     "data": {
      "image/png": "[encoded data removed]",
      "text/plain": [
       "<Figure size 432x288 with 1 Axes>"
      ]
     },
     "metadata": {
      "needs_background": "light"
     },
     "output_type": "display_data"
    }
   ],
   "source": [
    "import numpy as np\n",
    "import math \n",
    "from scipy.optimize import minimize\n",
    "import matplotlib as mpl\n",
    "import matplotlib.pyplot as plt\n",
    "from scipy.optimize import minimize, minimize_scalar\n",
    "from scipy import integrate\n",
    "%matplotlib inline\n",
    "\n",
    "#plt.rcParams.update({'font.size': 14})\n",
    "mpl.rc('xtick', labelsize=14) \n",
    "mpl.rc('ytick', labelsize=14)\n",
    "font = {'family' : 'normal',\n",
    "        'weight' : 'normal',\n",
    "        'size'   : 13}\n",
    "\n",
    "mpl.rc('font', **font)\n",
    "\n",
    "def example_inline():\n",
    "    plt.clf()\n",
    "x0_train=[]\n",
    "y0_train=[]\n",
    "x0_test=[]\n",
    "y0_test=[]\n",
    "x1_train=[]\n",
    "y1_train=[]\n",
    "x1_test=[]\n",
    "y1_test=[]\n",
    "    \n",
    "#plt.figure(1)    \n",
    "for i in range(0, len(datapoints_train[0])):\n",
    "    if datapoints_train[1][i]==0 :\n",
    "        x0_train.append(datapoints_train[0][i][0])\n",
    "        y0_train.append(datapoints_train[0][i][1])\n",
    "        \n",
    "        #plt.plot(datapoints_train[0][i][0], datapoints_train[0][i][1], linestyle='', linewidth = 3, \n",
    "             #marker='o', markersize=3, color='blue', label= r'$Result ~from~ curve~ fitting$')\n",
    "    else:\n",
    "        x1_train.append(datapoints_train[0][i][0])\n",
    "        y1_train.append(datapoints_train[0][i][1])\n",
    "        #plt.plot(datapoints_train[0][i][0], datapoints_train[0][i][1], linestyle='', linewidth = 3, \n",
    "                 #marker='o', markersize=3, color='green', label= r'$Result ~from~ curve$')\n",
    "        \n",
    "\n",
    "        \n",
    "for i in range(0, len(datapoints[0])):\n",
    "    if datapoints[1][i]==0 :\n",
    "        x0_test.append(datapoints[0][i][0])\n",
    "        y0_test.append(datapoints[0][i][1])\n",
    "        #plt.plot(datapoints[0][i][0], datapoints[0][i][1], linestyle='', linewidth = 3, \n",
    "             #marker='*', markersize=7, color='orange')\n",
    "    else:\n",
    "        x1_test.append(datapoints[0][i][0])\n",
    "        y1_test.append(datapoints[0][i][1])\n",
    "        #plt.plot(datapoints[0][i][0], datapoints[0][i][1], linestyle='', linewidth = 3, \n",
    "                 #marker='*', markersize=7, color='m')    \n",
    "    #plt.xlabel(r'$\\mathbf{X_1}$')\n",
    "    #plt.ylabel(r'$\\mathbf{x_2}$')\n",
    "#plt.legend()\n",
    "    #plt.show()\n",
    "print(len(x0_train)-len(y0_train))\n",
    "\n",
    "    \n",
    "plt.figure(1)\n",
    "\n",
    "plt.plot(x0_train, y0_train, linewidth = 3, linestyle='', marker='o', markersize=3, color='b', label= r'$training ~class~ 0$')\n",
    "\n",
    "plt.plot(x1_train, y1_train, linewidth = 3, linestyle='', marker='o', markersize=3, color='green', label= r'$training ~class~ 1$')\n",
    "\n",
    "plt.plot(x0_test, y0_test, linewidth = 3, linestyle='', marker='*', markersize=7, color='orange', label= r'$test ~class~ 0$')\n",
    "\n",
    "plt.plot(x1_test, y1_test, linewidth = 3, linestyle='', marker='*', markersize=7, color='m', label= r'$test ~class~ 1$')\n",
    "\n",
    "plt.ylabel(r'$X_2$')\n",
    "plt.xlabel(r'$X_1$')\n",
    "#plt.legend()\n",
    "plt.legend(bbox_to_anchor=(1.04,1), loc=\"upper left\")\n",
    "plt.show()\n",
    "    \n"
   ]
  },
  {
   "cell_type": "code",
   "execution_count": 90,
   "metadata": {},
   "outputs": [
    {
     "name": "stdout",
     "output_type": "stream",
     "text": [
      "0\n"
     ]
    },
    {
     "data": {
      "image/png": "[encoded data removed]",
      "text/plain": [
       "<Figure size 432x288 with 1 Axes>"
      ]
     },
     "metadata": {
      "needs_background": "light"
     },
     "output_type": "display_data"
    }
   ],
   "source": [
    "import numpy as np\n",
    "import math \n",
    "from scipy.optimize import minimize\n",
    "import matplotlib as mpl\n",
    "import matplotlib.pyplot as plt\n",
    "from scipy.optimize import minimize, minimize_scalar\n",
    "from scipy import integrate\n",
    "%matplotlib inline\n",
    "\n",
    "#plt.rcParams.update({'font.size': 14})\n",
    "mpl.rc('xtick', labelsize=14) \n",
    "mpl.rc('ytick', labelsize=14)\n",
    "font = {'family' : 'normal',\n",
    "        'weight' : 'normal',\n",
    "        'size'   : 13}\n",
    "\n",
    "mpl.rc('font', **font)\n",
    "\n",
    "def example_inline():\n",
    "    plt.clf()\n",
    "x0_train=[]\n",
    "y0_train=[]\n",
    "x0_test=[]\n",
    "y0_test=[]\n",
    "x1_train=[]\n",
    "y1_train=[]\n",
    "x1_test=[]\n",
    "y1_test=[]\n",
    "    \n",
    "#plt.figure(1)    \n",
    "for i in range(0, len(datapoints_train[0])):\n",
    "    if datapoints_train[1][i]==0 :\n",
    "        x0_train.append(datapoints_train[0][i][0])\n",
    "        y0_train.append(datapoints_train[0][i][1])\n",
    "        \n",
    "        #plt.plot(datapoints_train[0][i][0], datapoints_train[0][i][1], linestyle='', linewidth = 3, \n",
    "             #marker='o', markersize=3, color='blue', label= r'$Result ~from~ curve~ fitting$')\n",
    "    else:\n",
    "        x1_train.append(datapoints_train[0][i][0])\n",
    "        y1_train.append(datapoints_train[0][i][1])\n",
    "        #plt.plot(datapoints_train[0][i][0], datapoints_train[0][i][1], linestyle='', linewidth = 3, \n",
    "                 #marker='o', markersize=3, color='green', label= r'$Result ~from~ curve$')\n",
    "        \n",
    "\n",
    "        \n",
    "for i in range(0, len(datapoints[0])):\n",
    "    if datapoints[1][i]==0 :\n",
    "        x0_test.append(datapoints[0][i][0])\n",
    "        y0_test.append(datapoints[0][i][1])\n",
    "        #plt.plot(datapoints[0][i][0], datapoints[0][i][1], linestyle='', linewidth = 3, \n",
    "             #marker='*', markersize=7, color='orange')\n",
    "    else:\n",
    "        x1_test.append(datapoints[0][i][0])\n",
    "        y1_test.append(datapoints[0][i][1])\n",
    "        #plt.plot(datapoints[0][i][0], datapoints[0][i][1], linestyle='', linewidth = 3, \n",
    "                 #marker='*', markersize=7, color='m')    \n",
    "    #plt.xlabel(r'$\\mathbf{X_1}$')\n",
    "    #plt.ylabel(r'$\\mathbf{x_2}$')\n",
    "#plt.legend()\n",
    "    #plt.show()\n",
    "print(len(x0_train)-len(y0_train))\n",
    "\n",
    "    \n",
    "plt.figure(1)\n",
    "\n",
    "plt.plot(x0_train, y0_train, linewidth = 3, linestyle='', marker='o', markersize=3, color='b', label= r'$class~ 0$')\n",
    "\n",
    "plt.plot(x1_train, y1_train, linewidth = 3, linestyle='', marker='o', markersize=3, color='green', label= r'$class~ 1$')\n",
    "\n",
    "plt.plot(x0_test, y0_test, linewidth = 3, linestyle='', marker='o', markersize=3, color='b')\n",
    "\n",
    "plt.plot(x1_test, y1_test, linewidth = 3, linestyle='', marker='o', markersize=3, color='g')\n",
    "\n",
    "plt.ylabel(r'$X_2$')\n",
    "plt.xlabel(r'$X_1$')\n",
    "#plt.legend()\n",
    "plt.legend(bbox_to_anchor=(1.04,1), loc=\"upper left\")\n",
    "plt.show()\n",
    "    \n"
   ]
  },
  {
   "cell_type": "code",
   "execution_count": 91,
   "metadata": {},
   "outputs": [
    {
     "name": "stdout",
     "output_type": "stream",
     "text": [
      "20 40\n"
     ]
    }
   ],
   "source": [
    "print(len(datapoints[0]), len(datapoints_train[0]))"
   ]
  },
  {
   "cell_type": "code",
   "execution_count": null,
   "metadata": {},
   "outputs": [],
   "source": []
  }
 ],
 "metadata": {
  "kernelspec": {
   "display_name": "Python 3",
   "language": "python",
   "name": "python3"
  },
  "language_info": {
   "codemirror_mode": {
    "name": "ipython",
    "version": 3
   },
   "file_extension": ".py",
   "mimetype": "text/x-python",
   "name": "python",
   "nbconvert_exporter": "python",
   "pygments_lexer": "ipython3",
   "version": "3.7.9"
  }
 },
 "nbformat": 4,
 "nbformat_minor": 4
}
